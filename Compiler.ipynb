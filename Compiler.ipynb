{
 "cells": [
  {
   "cell_type": "code",
   "execution_count": 9,
   "metadata": {},
   "outputs": [],
   "source": [
    "%run CompilerTheory_Ch5(Tree_Classes).ipynb"
   ]
  },
  {
   "cell_type": "code",
   "execution_count": 10,
   "metadata": {},
   "outputs": [],
   "source": [
    "%run Lexical_Analyzer.ipynb"
   ]
  },
  {
   "cell_type": "code",
   "execution_count": 11,
   "metadata": {},
   "outputs": [],
   "source": [
    "%run parser_helpers.ipynb"
   ]
  },
  {
   "cell_type": "code",
   "execution_count": 12,
   "metadata": {},
   "outputs": [],
   "source": [
    "%run Translator.ipynb"
   ]
  },
  {
   "cell_type": "code",
   "execution_count": 13,
   "metadata": {},
   "outputs": [],
   "source": [
    "%run Intermediate_Code_Generator.ipynb"
   ]
  },
  {
   "cell_type": "code",
   "execution_count": 14,
   "metadata": {},
   "outputs": [],
   "source": [
    "%run Code_Generator.ipynb"
   ]
  },
  {
   "cell_type": "code",
   "execution_count": 15,
   "metadata": {},
   "outputs": [],
   "source": [
    "def Compile(path,v=0,vv=0):\n",
    "    \"\"\"compiles the source m\"\"\"\n",
    "    \n",
    "    global ST         # symbol table        \n",
    "    target = \"\"       # string for target code\n",
    "    \n",
    "    \n",
    "    file_ptr = open(path,\"r\")                  # open file for read mode\n",
    "    source = file_ptr.read()                   # read file to string m\n",
    "    file_ptr.close()                           # close file after reading\n",
    "    if v: print(\"source:\\n\"+source+\"\\n\\n\")\n",
    "    \n",
    "    \n",
    "    \n",
    "    #-------------------Compiler Front-End---------------------------------------------------------\n",
    "    Parse_Tree = parser(source)                               # call the parser/translator\n",
    "    Processed_Tree = pre_process(Parse_Tree)                  # pre-process the tree\n",
    "    if vv: printTree(Processed_Tree,1,2000,14)\n",
    "    \n",
    "    \n",
    "    \n",
    "    #-------------------Compiler Back-End----------------------------------------------------------\n",
    "    Quadruples = int_code_gen(Processed_Tree,v,vv)            # call the code generator\n",
    "    \n",
    "    for Q in Quadruples:\n",
    "        if vv: print(Q)\n",
    "        target += code_gen(Q)\n",
    "    \n",
    "    \n",
    "    fp = open(path[:-2]+\".asm\",'w')            # open file for output\n",
    "    \n",
    "    \n",
    "    fp.write(\"extrn ExitProcess : proc\\n\\n\")   # file header\n",
    "    fp.write(\".data\\n\")                        # .data section\n",
    "    \n",
    "    for key in ST:                             # declare variables (in MASM)\n",
    "        if key not in [\"\", 'int', 'float', 'if', 'else', 'for', 'while', 'do', 'break', 'continue', 'goto']:\n",
    "            if ST[key].array_size:                 # check if the variable is an array\n",
    "                fp.write(key+\" QWORD \"+str(ST[key].array_size)+\" DUP (?)\\n\")    # initialize an empty array\n",
    "            else:\n",
    "                fp.write(key+\" QWORD ?\\n\")\n",
    "    \n",
    "    fp.write(\"\\n\\n.code\\n\")                    # .code section\n",
    "    fp.write(\"_main PROC\\n\")\n",
    "    \n",
    "    \n",
    "    fp.write(target)                           # code generator output\n",
    "    \n",
    "    \n",
    "    trailer = \"\\n\\n\\ndone:\\nxor rcx, rcx\\ncall ExitProcess\\n_main ENDP\\nEND\" \n",
    "    fp.write(trailer)                          # file trailer\n",
    "    fp.close()                                 # close output file\n",
    "    print(\"compilation complete\")"
   ]
  },
  {
   "cell_type": "code",
   "execution_count": 17,
   "metadata": {},
   "outputs": [
    {
     "name": "stdout",
     "output_type": "stream",
     "text": [
      "\n",
      "Parsing Complete\n",
      "compilation complete\n"
     ]
    }
   ],
   "source": [
    "Compile(\"tester.c\")"
   ]
  },
  {
   "cell_type": "code",
   "execution_count": null,
   "metadata": {},
   "outputs": [],
   "source": []
  }
 ],
 "metadata": {
  "kernelspec": {
   "display_name": "Python 3",
   "language": "python",
   "name": "python3"
  },
  "language_info": {
   "codemirror_mode": {
    "name": "ipython",
    "version": 3
   },
   "file_extension": ".py",
   "mimetype": "text/x-python",
   "name": "python",
   "nbconvert_exporter": "python",
   "pygments_lexer": "ipython3",
   "version": "3.8.5"
  }
 },
 "nbformat": 4,
 "nbformat_minor": 5
}
